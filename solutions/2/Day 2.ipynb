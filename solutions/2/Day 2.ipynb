{
 "cells": [
  {
   "cell_type": "markdown",
   "id": "af6d387e-c41e-49b5-b47f-b076f5f7804c",
   "metadata": {},
   "source": [
    "# Part 1\n",
    "\n",
    "--- Day 2: Rock Paper Scissors ---\n",
    "\n",
    "The Elves begin to set up camp on the beach. To decide whose tent gets to be closest to the snack storage, a giant Rock Paper Scissors tournament is already in progress.\n",
    "\n",
    "Rock Paper Scissors is a game between two players. Each game contains many rounds; in each round, the players each simultaneously choose one of Rock, Paper, or Scissors using a hand shape. Then, a winner for that round is selected: Rock defeats Scissors, Scissors defeats Paper, and Paper defeats Rock. If both players choose the same shape, the round instead ends in a draw.\n",
    "\n",
    "Appreciative of your help yesterday, one Elf gives you an encrypted strategy guide (your puzzle input) that they say will be sure to help you win. \"The first column is what your opponent is going to play: A for Rock, B for Paper, and C for Scissors. The second column--\" Suddenly, the Elf is called away to help with someone's tent.\n",
    "\n",
    "The second column, you reason, must be what you should play in response: X for Rock, Y for Paper, and Z for Scissors. Winning every time would be suspicious, so the responses must have been carefully chosen.\n",
    "\n",
    "The winner of the whole tournament is the player with the highest score. Your total score is the sum of your scores for each round. The score for a single round is the score for the shape you selected (1 for Rock, 2 for Paper, and 3 for Scissors) plus the score for the outcome of the round (0 if you lost, 3 if the round was a draw, and 6 if you won).\n",
    "\n",
    "Since you can't be sure if the Elf is trying to help you or trick you, you should calculate the score you would get if you were to follow the strategy guide.\n",
    "\n",
    "For example, suppose you were given the following strategy guide:\n",
    "\n",
    "A Y\n",
    "\n",
    "B X\n",
    "\n",
    "C Z\n",
    "\n",
    "This strategy guide predicts and recommends the following:\n",
    "\n",
    "In the first round, your opponent will choose Rock (A), and you should choose Paper (Y). This ends in a win for you with a score of 8 (2 because you chose Paper + 6 because you won).\n",
    "In the second round, your opponent will choose Paper (B), and you should choose Rock (X). This ends in a loss for you with a score of 1 (1 + 0).\n",
    "The third round is a draw with both players choosing Scissors, giving you a score of 3 + 3 = 6.\n",
    "In this example, if you were to follow the strategy guide, you would get a total score of 15 (8 + 1 + 6).\n",
    "\n",
    "What would your total score be if everything goes exactly according to your strategy guide?"
   ]
  },
  {
   "cell_type": "code",
   "execution_count": 1,
   "id": "a6906d1f-0bdc-48ab-a55e-8af98ef43ffe",
   "metadata": {},
   "outputs": [
    {
     "name": "stdout",
     "output_type": "stream",
     "text": [
      "Expected total score is 12586.\n"
     ]
    }
   ],
   "source": [
    "from enum import Enum\n",
    "from functools import total_ordering\n",
    "\n",
    "@total_ordering\n",
    "class Shapes(Enum):\n",
    "    ROCK = 1\n",
    "    PAPER = 2\n",
    "    SCISSORS = 3\n",
    "    \n",
    "    # Loss condition\n",
    "    def __lt__(self, other):\n",
    "        if self.__class__ is other.__class__:\n",
    "            if ((self == Shapes.ROCK and other == Shapes.PAPER)\n",
    "                or (self == Shapes.PAPER and other == Shapes.SCISSORS)\n",
    "                or (self == Shapes.SCISSORS and other == Shapes.ROCK)):\n",
    "                return True\n",
    "            else:\n",
    "                return False\n",
    "        return NotImplemented\n",
    "\n",
    "class Score(Enum):\n",
    "    WIN = 6\n",
    "    DRAW = 3\n",
    "    LOSE = 0\n",
    "    \n",
    "# Unify the notation\n",
    "rps_map = {'A': Shapes.ROCK, 'B': Shapes.PAPER, 'C': Shapes.SCISSORS,\n",
    "           'X': Shapes.ROCK, 'Y': Shapes.PAPER, 'Z': Shapes.SCISSORS}\n",
    "\n",
    "with open('input.txt', 'r') as f:\n",
    "    score = 0\n",
    "    for l in f:\n",
    "        opp, you = [rps_map[s] for s in l.split()]\n",
    "        if opp == you:\n",
    "            score += Score.DRAW.value\n",
    "        elif opp > you:\n",
    "            score += Score.LOSE.value\n",
    "        else:\n",
    "            score += Score.WIN.value\n",
    "        score += you.value\n",
    "print(f'Expected total score is {score}.')"
   ]
  },
  {
   "cell_type": "markdown",
   "id": "db1518cb-3926-47aa-a789-cd6fd82caae5",
   "metadata": {},
   "source": [
    "# Part 2\n",
    "\n",
    "The Elf finishes helping with the tent and sneaks back over to you. \"Anyway, the second column says how the round needs to end: X means you need to lose, Y means you need to end the round in a draw, and Z means you need to win. Good luck!\"\n",
    "\n",
    "The total score is still calculated in the same way, but now you need to figure out what shape to choose so the round ends as indicated. The example above now goes like this:\n",
    "\n",
    "In the first round, your opponent will choose Rock (A), and you need the round to end in a draw (Y), so you also choose Rock. This gives you a score of 1 + 3 = 4.\n",
    "In the second round, your opponent will choose Paper (B), and you choose Rock so you lose (X) with a score of 1 + 0 = 1.\n",
    "In the third round, you will defeat your opponent's Scissors with Rock for a score of 1 + 6 = 7.\n",
    "Now that you're correctly decrypting the ultra top secret strategy guide, you would get a total score of 12.\n",
    "\n",
    "Following the Elf's instructions for the second column, what would your total score be if everything goes exactly according to your strategy guide?"
   ]
  },
  {
   "cell_type": "code",
   "execution_count": 2,
   "id": "4e6e60fa-447f-4785-8e18-5bcf1b70467f",
   "metadata": {},
   "outputs": [
    {
     "name": "stdout",
     "output_type": "stream",
     "text": [
      "Expected total score is 13193.\n"
     ]
    }
   ],
   "source": [
    "@total_ordering\n",
    "class Shapes(Enum):\n",
    "    ROCK = 1\n",
    "    PAPER = 2\n",
    "    SCISSORS = 3\n",
    "    \n",
    "    # Loss condition\n",
    "    def __lt__(self, other):\n",
    "        if self.__class__ is other.__class__:\n",
    "            # If the other shape wins vs self\n",
    "            if Shapes.permute(self) == other:\n",
    "                return True\n",
    "            else:\n",
    "                return False\n",
    "        return NotImplemented\n",
    "    \n",
    "    # Transform to the winning shape\n",
    "    def permute_r(self):\n",
    "        return Shapes(self.value % 3 + 1)\n",
    "    \n",
    "    # Transform to the losing shape\n",
    "    def permute_l(self):\n",
    "        return Shapes.permute_r(Shapes.permute_r(self))\n",
    "\n",
    "# Unify the notation\n",
    "rps_map = {'A': Shapes.ROCK, 'B': Shapes.PAPER, 'C': Shapes.SCISSORS,\n",
    "           'X': Score.LOSE, 'Y': Score.DRAW, 'Z': Score.WIN}\n",
    "\n",
    "with open('input.txt', 'r') as f:\n",
    "    score = 0\n",
    "    for l in f:\n",
    "        opp, result = [rps_map[s] for s in l.split()]\n",
    "        if result == Score.DRAW:\n",
    "            score += opp.value\n",
    "        elif result == Score.WIN:\n",
    "            score += Shapes.permute_r(opp).value\n",
    "        else:\n",
    "            score += Shapes.permute_l(opp).value\n",
    "        score += result.value\n",
    "print(f'Expected total score is {score}.')"
   ]
  }
 ],
 "metadata": {
  "kernelspec": {
   "display_name": "Python 3 (ipykernel)",
   "language": "python",
   "name": "python3"
  },
  "language_info": {
   "codemirror_mode": {
    "name": "ipython",
    "version": 3
   },
   "file_extension": ".py",
   "mimetype": "text/x-python",
   "name": "python",
   "nbconvert_exporter": "python",
   "pygments_lexer": "ipython3",
   "version": "3.10.8"
  }
 },
 "nbformat": 4,
 "nbformat_minor": 5
}
